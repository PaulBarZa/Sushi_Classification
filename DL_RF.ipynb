{
 "cells": [
  {
   "cell_type": "code",
   "execution_count": 1,
   "id": "9a629659-85b9-4f1c-b76d-df6be9650335",
   "metadata": {},
   "outputs": [],
   "source": [
    "import numpy as np\n",
    "from tensorflow import keras"
   ]
  },
  {
   "cell_type": "code",
   "execution_count": 2,
   "id": "33126757-55aa-455a-8260-384cadb08460",
   "metadata": {},
   "outputs": [],
   "source": [
    "# Avoid tensorflow warnings about CPU\n",
    "import os\n",
    "os.environ['TF_CPP_MIN_LOG_LEVEL'] = '2'"
   ]
  },
  {
   "cell_type": "code",
   "execution_count": 3,
   "id": "9b9b6c0b-6033-4159-9167-07e5813736f3",
   "metadata": {},
   "outputs": [],
   "source": [
    "# Load the model\n",
    "model_name = 'retrain_mobilenet_v4'\n",
    "model = keras.models.load_model('./models/' + model_name + '.keras')\n",
    "\n",
    "# Load validation set\n",
    "X_validation = np.load(model_name + \"/X_validation.npy\")\n",
    "y_validation = np.load(model_name + \"/y_validation.npy\")"
   ]
  },
  {
   "cell_type": "code",
   "execution_count": 4,
   "id": "f0fcbdbc-f687-4198-8309-327e458c1572",
   "metadata": {},
   "outputs": [],
   "source": [
    "feature_extractor = keras.Model(model.input, model.layers[-3].output)"
   ]
  },
  {
   "cell_type": "code",
   "execution_count": 5,
   "id": "088fbde0-1a7d-4efc-9970-e012d94274e4",
   "metadata": {},
   "outputs": [],
   "source": [
    "# Init random forest\n",
    "from sklearn.ensemble import RandomForestClassifier\n",
    "RF_model = RandomForestClassifier(n_estimators = 60, random_state = 42)\n",
    "\n",
    "# Extract features\n",
    "X_for_RF = feature_extractor.predict(X_validation)"
   ]
  },
  {
   "cell_type": "code",
   "execution_count": 6,
   "id": "c56dd44e-46e2-4cd3-b22d-dbcb42911f54",
   "metadata": {},
   "outputs": [
    {
     "data": {
      "text/plain": [
       "RandomForestClassifier(n_estimators=60, random_state=42)"
      ]
     },
     "execution_count": 6,
     "metadata": {},
     "output_type": "execute_result"
    }
   ],
   "source": [
    "# Train the model\n",
    "RF_model.fit(X_for_RF, y_validation)"
   ]
  },
  {
   "cell_type": "code",
   "execution_count": 7,
   "id": "49a1409c-1c37-425f-bd0b-704574f7e752",
   "metadata": {},
   "outputs": [
    {
     "name": "stdout",
     "output_type": "stream",
     "text": [
      "Accuracy =  0.9924242424242424\n"
     ]
    }
   ],
   "source": [
    "from sklearn import metrics\n",
    "\n",
    "# Test on validation test\n",
    "X_validation_features = feature_extractor(X_validation)\n",
    "predicted_values = RF_model.predict(X_validation_features)\n",
    "\n",
    "print(\"Accuracy = \", metrics.accuracy_score(y_validation, predicted_values))"
   ]
  },
  {
   "cell_type": "code",
   "execution_count": null,
   "id": "565e243b-dfdf-4708-9cc9-581a6873cf50",
   "metadata": {},
   "outputs": [],
   "source": []
  }
 ],
 "metadata": {
  "kernelspec": {
   "display_name": "Python 3 (ipykernel)",
   "language": "python",
   "name": "python3"
  },
  "language_info": {
   "codemirror_mode": {
    "name": "ipython",
    "version": 3
   },
   "file_extension": ".py",
   "mimetype": "text/x-python",
   "name": "python",
   "nbconvert_exporter": "python",
   "pygments_lexer": "ipython3",
   "version": "3.8.8"
  }
 },
 "nbformat": 4,
 "nbformat_minor": 5
}
