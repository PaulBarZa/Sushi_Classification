{
 "cells": [
  {
   "cell_type": "code",
   "execution_count": 1,
   "id": "1bbd4682-a3a7-4a48-8706-ef4b6d1cfb46",
   "metadata": {},
   "outputs": [],
   "source": [
    "# Import \n",
    "import numpy as np\n",
    "from utils import load_data\n",
    "from tensorflow import keras\n",
    "from tensorflow.keras import layers\n",
    "from sklearn.model_selection import train_test_split\n",
    "\n",
    "# Avoid tensorflow warnings about CPU\n",
    "import os\n",
    "os.environ['TF_CPP_MIN_LOG_LEVEL'] = '2'"
   ]
  },
  {
   "cell_type": "code",
   "execution_count": 2,
   "id": "0a4c12af-e9a0-4dfd-964e-ec6aff4b9f24",
   "metadata": {},
   "outputs": [
    {
     "name": "stdout",
     "output_type": "stream",
     "text": [
      "Found 3960 files belonging to 50 classes.\n"
     ]
    },
    {
     "name": "stderr",
     "output_type": "stream",
     "text": [
      "Invalid SOS parameters for sequential JPEG\n",
      "Corrupt JPEG data: 45 extraneous bytes before marker 0xdb\n",
      "Invalid SOS parameters for sequential JPEG\n",
      "Corrupt JPEG data: 45 extraneous bytes before marker 0xdb\n"
     ]
    },
    {
     "name": "stdout",
     "output_type": "stream",
     "text": [
      "(3960, 100, 100, 3)\n"
     ]
    }
   ],
   "source": [
    "#Load dataset\n",
    "X, y = load_data((200, 200))\n",
    "print(X.shape)"
   ]
  },
  {
   "cell_type": "code",
   "execution_count": 3,
   "id": "772ff440-a6a1-4679-ac67-84cf20fb8b5e",
   "metadata": {},
   "outputs": [],
   "source": [
    "#Normalize to the range [-1, 1]\n",
    "X /= 127.5\n",
    "X -= 1\n",
    "X, X_validation, y, y_validation = train_test_split(X, y, test_size=0.1)"
   ]
  },
  {
   "cell_type": "code",
   "execution_count": 4,
   "id": "fe8989cb-b998-485a-85bd-4b1465b59e4f",
   "metadata": {},
   "outputs": [],
   "source": [
    "# Init random forest\n",
    "from sklearn.ensemble import RandomForestClassifier\n",
    "RF_model = RandomForestClassifier(n_estimators = 10, random_state = 42)\n",
    "\n",
    "# Flatten\n",
    "flatten_model = keras.Sequential([\n",
    "    layers.Flatten(),\n",
    "])\n",
    "X_for_RF = flatten_model(X)"
   ]
  },
  {
   "cell_type": "code",
   "execution_count": 5,
   "id": "da1870cf-cea1-4599-a3d8-363a3d8e90c4",
   "metadata": {},
   "outputs": [
    {
     "name": "stderr",
     "output_type": "stream",
     "text": [
      "[Parallel(n_jobs=1)]: Using backend SequentialBackend with 1 concurrent workers.\n",
      "[Parallel(n_jobs=1)]: Done  10 out of  10 | elapsed:   34.9s finished\n"
     ]
    },
    {
     "data": {
      "text/plain": [
       "RandomForestClassifier(n_estimators=10, random_state=42, verbose=1)"
      ]
     },
     "execution_count": 5,
     "metadata": {},
     "output_type": "execute_result"
    }
   ],
   "source": [
    "# Train the model\n",
    "RF_model.fit(X_for_RF, y)"
   ]
  },
  {
   "cell_type": "code",
   "execution_count": 6,
   "id": "cdba2794-365b-43ce-9eeb-9de2efd2989d",
   "metadata": {},
   "outputs": [
    {
     "name": "stdout",
     "output_type": "stream",
     "text": [
      "Accuracy =  0.0025252525252525255\n"
     ]
    },
    {
     "name": "stderr",
     "output_type": "stream",
     "text": [
      "[Parallel(n_jobs=1)]: Using backend SequentialBackend with 1 concurrent workers.\n",
      "[Parallel(n_jobs=1)]: Done  10 out of  10 | elapsed:    0.0s finished\n"
     ]
    }
   ],
   "source": [
    "from sklearn import metrics\n",
    "\n",
    "# Test on validation test\n",
    "X_validation_features = flatten_model(X_validation)\n",
    "predicted_values = RF_model.predict(X_validation_features)\n",
    "\n",
    "print(\"Accuracy = \", metrics.accuracy_score(y_validation, predicted_values))"
   ]
  },
  {
   "cell_type": "code",
   "execution_count": null,
   "id": "4f004d26-d15c-42e2-ab28-4ee132291afa",
   "metadata": {},
   "outputs": [],
   "source": []
  }
 ],
 "metadata": {
  "kernelspec": {
   "display_name": "Python 3 (ipykernel)",
   "language": "python",
   "name": "python3"
  },
  "language_info": {
   "codemirror_mode": {
    "name": "ipython",
    "version": 3
   },
   "file_extension": ".py",
   "mimetype": "text/x-python",
   "name": "python",
   "nbconvert_exporter": "python",
   "pygments_lexer": "ipython3",
   "version": "3.8.8"
  }
 },
 "nbformat": 4,
 "nbformat_minor": 5
}
