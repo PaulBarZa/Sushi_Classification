{
  "cells": [
    {
      "cell_type": "markdown",
      "id": "369d54d6-c706-4d2e-a218-01dea3fcc505",
      "metadata": {
        "id": "369d54d6-c706-4d2e-a218-01dea3fcc505"
      },
      "source": [
        "**Testing trained model** - Run with Google Colab"
      ]
    },
    {
      "cell_type": "code",
      "execution_count": 1,
      "id": "wwpCU4K41KHx",
      "metadata": {
        "colab": {
          "base_uri": "https://localhost:8080/"
        },
        "id": "wwpCU4K41KHx",
        "outputId": "8b93e92d-ff31-4263-a34d-bf891a56a307"
      },
      "outputs": [
        {
          "output_type": "stream",
          "name": "stdout",
          "text": [
            "Mounted at /content/gdrive\n",
            "TensorFlow 1.x selected.\n"
          ]
        }
      ],
      "source": [
        "google_drive_path = \"gdrive/MyDrive/\"\n",
        "from google.colab import drive\n",
        "drive.mount('/content/gdrive', force_remount=True)\n",
        "%tensorflow_version 1.x\n",
        "import tensorflow as tf\n",
        "import sys\n",
        "import pickle\n",
        "import numpy as np"
      ]
    },
    {
      "cell_type": "code",
      "source": [
        "# !git clone https://github.com/NVlabs/stylegan.git\n",
        "!ls gdrive/MyDrive/stylegan/\n",
        "sys.path.insert(0, google_drive_path+\"stylegan\")\n",
        "import dnnlib"
      ],
      "metadata": {
        "colab": {
          "base_uri": "https://localhost:8080/"
        },
        "id": "U-QYXkFtIajn",
        "outputId": "75a9e44b-2762-430c-d842-40e4e74af05a"
      },
      "id": "U-QYXkFtIajn",
      "execution_count": 2,
      "outputs": [
        {
          "output_type": "stream",
          "name": "stdout",
          "text": [
            "config.py\t generate_figures.py\t__pycache__\t     training\n",
            "datasets\t LICENSE.txt\t\tREADME.md\t     train.py\n",
            "dataset_tool.py  metrics\t\trun_metrics.py\n",
            "dnnlib\t\t pretrained_example.py\tstylegan-teaser.png\n"
          ]
        }
      ]
    },
    {
      "cell_type": "code",
      "execution_count": 3,
      "id": "8745733e-8d61-44b6-a86c-b8e4312f3fc2",
      "metadata": {
        "colab": {
          "base_uri": "https://localhost:8080/"
        },
        "id": "8745733e-8d61-44b6-a86c-b8e4312f3fc2",
        "outputId": "13cb6a25-2780-4df1-97df-a37436cbddb3"
      },
      "outputs": [
        {
          "output_type": "stream",
          "name": "stdout",
          "text": [
            "WARNING:tensorflow:From gdrive/MyDrive/stylegan/dnnlib/tflib/tfutil.py:34: The name tf.Dimension is deprecated. Please use tf.compat.v1.Dimension instead.\n",
            "\n",
            "WARNING:tensorflow:From gdrive/MyDrive/stylegan/dnnlib/tflib/tfutil.py:74: The name tf.variable_scope is deprecated. Please use tf.compat.v1.variable_scope instead.\n",
            "\n",
            "WARNING:tensorflow:From gdrive/MyDrive/stylegan/dnnlib/tflib/tfutil.py:128: The name tf.Session is deprecated. Please use tf.compat.v1.Session instead.\n",
            "\n",
            "WARNING:tensorflow:From gdrive/MyDrive/stylegan/dnnlib/tflib/tfutil.py:97: The name tf.get_default_session is deprecated. Please use tf.compat.v1.get_default_session instead.\n",
            "\n",
            "WARNING:tensorflow:From gdrive/MyDrive/stylegan/dnnlib/tflib/tfutil.py:109: The name tf.set_random_seed is deprecated. Please use tf.compat.v1.set_random_seed instead.\n",
            "\n",
            "WARNING:tensorflow:From gdrive/MyDrive/stylegan/dnnlib/tflib/tfutil.py:132: The name tf.ConfigProto is deprecated. Please use tf.compat.v1.ConfigProto instead.\n",
            "\n",
            "WARNING:tensorflow:From gdrive/MyDrive/stylegan/dnnlib/tflib/network.py:142: The name tf.get_default_graph is deprecated. Please use tf.compat.v1.get_default_graph instead.\n",
            "\n",
            "WARNING:tensorflow:From gdrive/MyDrive/stylegan/dnnlib/tflib/network.py:150: The name tf.AUTO_REUSE is deprecated. Please use tf.compat.v1.AUTO_REUSE instead.\n",
            "\n",
            "WARNING:tensorflow:From gdrive/MyDrive/stylegan/dnnlib/tflib/tfutil.py:76: The name tf.VariableScope is deprecated. Please use tf.compat.v1.VariableScope instead.\n",
            "\n",
            "WARNING:tensorflow:From gdrive/MyDrive/stylegan/dnnlib/tflib/network.py:151: The name tf.get_variable_scope is deprecated. Please use tf.compat.v1.get_variable_scope instead.\n",
            "\n",
            "WARNING:tensorflow:From gdrive/MyDrive/stylegan/dnnlib/tflib/network.py:154: The name tf.placeholder is deprecated. Please use tf.compat.v1.placeholder instead.\n",
            "\n",
            "WARNING:tensorflow:From gdrive/MyDrive/stylegan/dnnlib/tflib/network.py:182: The name tf.global_variables is deprecated. Please use tf.compat.v1.global_variables instead.\n",
            "\n",
            "WARNING:tensorflow:From gdrive/MyDrive/stylegan/dnnlib/tflib/tfutil.py:200: The name tf.assign is deprecated. Please use tf.compat.v1.assign instead.\n",
            "\n",
            "WARNING:tensorflow:From <string>:373: where (from tensorflow.python.ops.array_ops) is deprecated and will be removed in a future version.\n",
            "Instructions for updating:\n",
            "Use tf.where in 2.0, which has the same broadcast rule as np.where\n"
          ]
        }
      ],
      "source": [
        "import dnnlib.tflib as tflib\n",
        "import PIL.Image\n",
        "dnnlib.tflib.init_tf()\n",
        "with open(google_drive_path+\"maki_gen.pkl\", 'rb') as pickle_file:\n",
        "  _G, _D, Gs = pickle.load(pickle_file)"
      ]
    },
    {
      "cell_type": "code",
      "execution_count": 4,
      "id": "ef73afe3-c282-4fc5-b234-458e4cc37102",
      "metadata": {
        "colab": {
          "base_uri": "https://localhost:8080/",
          "height": 286
        },
        "id": "ef73afe3-c282-4fc5-b234-458e4cc37102",
        "outputId": "22133c8e-58f3-4ba0-f17a-e9113507b0ec"
      },
      "outputs": [
        {
          "output_type": "execute_result",
          "data": {
            "text/plain": [
              "<matplotlib.image.AxesImage at 0x7f3b675b5790>"
            ]
          },
          "metadata": {},
          "execution_count": 4
        },
        {
          "output_type": "display_data",
          "data": {
            "text/plain": [
              "<Figure size 432x288 with 1 Axes>"
            ],
            "image/png": "[encoded data removed]"
          },
          "metadata": {
            "needs_background": "light"
          }
        }
      ],
      "source": [
        "import matplotlib.pyplot as plt\n",
        "from random import randrange\n",
        "\n",
        "# Pick latent vector.\n",
        "rnd = np.random.RandomState(5)\n",
        "latents = rnd.randn(100, Gs.input_shape[1])\n",
        "\n",
        "# Generate image.\n",
        "fmt = dict(func=tflib.convert_images_to_uint8, nchw_to_nhwc=True)\n",
        "images = Gs.run(latents, None, truncation_psi=0.7, randomize_noise=True, output_transform=fmt)\n",
        "\n",
        "\n",
        "plt.imshow(images[randrange(100)])"
      ]
    },
    {
      "cell_type": "markdown",
      "id": "54316baf-5e1e-4c90-aa68-5f6f85cf1bfd",
      "metadata": {
        "id": "54316baf-5e1e-4c90-aa68-5f6f85cf1bfd"
      },
      "source": [
        "**Transfer learning StyleGan** - Run with Google Colab"
      ]
    },
    {
      "cell_type": "code",
      "execution_count": null,
      "id": "Rcyil-pLrqON",
      "metadata": {
        "id": "Rcyil-pLrqON"
      },
      "outputs": [],
      "source": [
        "! python gdrive/MyDrive/stylegan/dataset_tool.py create_from_images gdrive/MyDrive/stylegan/datasets/custom-dataset gdrive/MyDrive/sushi"
      ]
    },
    {
      "cell_type": "code",
      "execution_count": null,
      "id": "njGvN7l-wFGW",
      "metadata": {
        "id": "njGvN7l-wFGW"
      },
      "outputs": [],
      "source": [
        "! python gdrive/MyDrive/stylegan/train.py"
      ]
    },
    {
      "cell_type": "markdown",
      "id": "5W35yrkE1w__",
      "metadata": {
        "id": "5W35yrkE1w__"
      },
      "source": [
        "**Custom GAN** - Run in local"
      ]
    },
    {
      "cell_type": "code",
      "execution_count": null,
      "id": "978fa498-4eb8-4010-9636-3519f83fb0bd",
      "metadata": {
        "id": "978fa498-4eb8-4010-9636-3519f83fb0bd"
      },
      "outputs": [],
      "source": [
        "import os, sys, os.path\n",
        "sys.path.append(\"/home/paul/Development/Projects/Sushi/\")\n",
        "import numpy as np\n",
        "import matplotlib.pyplot as plt\n",
        "import tensorflow as tf\n",
        "from tensorflow import ones_like, train\n",
        "from tensorflow import keras\n",
        "from tensorflow.keras import layers\n",
        "from sklearn.model_selection import train_test_split\n",
        "import matplotlib.image as mpimg"
      ]
    },
    {
      "cell_type": "code",
      "execution_count": null,
      "id": "34b81120-235f-4406-bb96-52973733e8de",
      "metadata": {
        "id": "34b81120-235f-4406-bb96-52973733e8de"
      },
      "outputs": [],
      "source": [
        "image_size = 256 #in pixels\n",
        "image_depth = 3\n",
        "input_shape = (image_size, image_size, image_depth)\n",
        "input_dim = (image_size * image_size * image_depth)\n",
        "output_dimension = input_dim\n",
        "latent_dim = 500"
      ]
    },
    {
      "cell_type": "markdown",
      "id": "1150ab2a-25c9-4cf9-8a63-ae3379f8d2a5",
      "metadata": {
        "id": "1150ab2a-25c9-4cf9-8a63-ae3379f8d2a5"
      },
      "source": [
        "**Single images path**"
      ]
    },
    {
      "cell_type": "code",
      "execution_count": null,
      "id": "a994e38e-8258-48e1-9c05-309768ea6498",
      "metadata": {
        "id": "a994e38e-8258-48e1-9c05-309768ea6498"
      },
      "outputs": [],
      "source": [
        "gan_path = './gan.keras'\n",
        "disc_path = './disc.keras'\n",
        "gen_path = './gen.keras'"
      ]
    },
    {
      "cell_type": "markdown",
      "id": "316b2f64-27e0-40f9-ad92-47bbe5fb2805",
      "metadata": {
        "id": "316b2f64-27e0-40f9-ad92-47bbe5fb2805"
      },
      "source": [
        "**Load single image dataset**"
      ]
    },
    {
      "cell_type": "code",
      "execution_count": null,
      "id": "2612293f-c937-45fb-8098-1a5288bca79f",
      "metadata": {
        "id": "2612293f-c937-45fb-8098-1a5288bca79f"
      },
      "outputs": [],
      "source": [
        "image_paths = [f for f in os.listdir('./sushi')]\n",
        "X = []\n",
        "for img_path in image_paths:\n",
        "    if not img_path == \".ipynb_checkpoints\":\n",
        "        image = mpimg.imread(\"./sushi/\" + img_path)\n",
        "        image = np.resize(image, input_shape)\n",
        "        #if image_arr.shape == (image_size, image_size, image_depth):\n",
        "        X.append(image*2-1)\n",
        "X = np.array(X)\n",
        "Y = np.ones(len(X))\n",
        "X = X.reshape(X.shape[0], image_size, image_size, image_depth).astype('float32')\n",
        "print(X.shape)"
      ]
    },
    {
      "cell_type": "code",
      "execution_count": null,
      "id": "ab6242e9-3132-4a22-bc55-738ca162d0cb",
      "metadata": {
        "id": "ab6242e9-3132-4a22-bc55-738ca162d0cb"
      },
      "outputs": [],
      "source": [
        "def generate_latent_points(latent_dim, n_samples):\n",
        "    latent_points = np.random.randn(latent_dim * n_samples)\n",
        "    latent_points = latent_points.reshape(n_samples, latent_dim)\n",
        "    return latent_points"
      ]
    },
    {
      "cell_type": "code",
      "execution_count": null,
      "id": "6f975666-587d-45fc-9e48-624e7a081e0c",
      "metadata": {
        "id": "6f975666-587d-45fc-9e48-624e7a081e0c"
      },
      "outputs": [],
      "source": [
        "# define the standalone generator model\n",
        "def generator_model(latent_dim=100):\n",
        "    model = keras.Sequential()\n",
        "    # Starting with (image_size / 4) x (image_size / 4)\n",
        "    f1 = np.int32(image_size / 4)\n",
        "    n_nodes = 128 * f1 * f1\n",
        "\n",
        "    model.add(layers.Dense(int(n_nodes/8), input_dim=latent_dim))\n",
        "    model.add(layers.LeakyReLU(alpha=0.2))\n",
        "    model.add(layers.Dense(int(n_nodes/4)))\n",
        "    model.add(layers.LeakyReLU(alpha=0.2))\n",
        "    model.add(layers.Dense(int(n_nodes/2)))\n",
        "    model.add(layers.LeakyReLU(alpha=0.2))\n",
        "    model.add(layers.Dense(n_nodes))\n",
        "    model.add(layers.LeakyReLU(alpha=0.2))\n",
        "    model.add(layers.Reshape((f1, f1, 128)))\n",
        "    # Here we are in (image_size / 2) x (image_size / 2)\n",
        "    model.add(layers.Conv2DTranspose(128, (4,4), strides=(2,2), padding='same'))\n",
        "    model.add(layers.LeakyReLU(alpha=0.2))\n",
        "    # Here we are in image_size x image_size\n",
        "    model.add(layers.Conv2DTranspose(128, (4,4), strides=(2,2), padding='same'))\n",
        "    model.add(layers.LeakyReLU(alpha=0.2))\n",
        "    model.add(layers.Conv2D(image_depth, (7,7), activation='sigmoid', padding='same'))\n",
        "    \n",
        "    return model"
      ]
    },
    {
      "cell_type": "code",
      "execution_count": null,
      "id": "f994351b-523c-4942-ab49-3a924704e6f4",
      "metadata": {
        "id": "f994351b-523c-4942-ab49-3a924704e6f4"
      },
      "outputs": [],
      "source": [
        "def discriminator_model(in_shape=(image_size,image_size,image_depth)):\n",
        "    model = keras.Sequential()\n",
        "    model.add(layers.Conv2D(64, (3,3), strides=(2, 2), padding='same', input_shape=in_shape))\n",
        "    model.add(layers.LeakyReLU(alpha=0.2))\n",
        "    model.add(layers.Dropout(0.4))\n",
        "    model.add(layers.Conv2D(64, (3,3), strides=(2, 2), padding='same'))\n",
        "    model.add(layers.LeakyReLU(alpha=0.2))\n",
        "    model.add(layers.Dropout(0.4))\n",
        "    model.add(layers.Flatten())\n",
        "    model.add(layers.Dense(32))\n",
        "    model.add(layers.Dense(1, activation='sigmoid'))\n",
        "    # compile model\n",
        "    opt = keras.optimizers.Adam(lr=0.0002, beta_1=0.5)\n",
        "    model.compile(loss='binary_crossentropy', optimizer=opt, metrics=['accuracy'])\n",
        "    return model"
      ]
    },
    {
      "cell_type": "code",
      "execution_count": null,
      "id": "8fc39620-2ba1-40e2-8bc1-9fba3e3c1497",
      "metadata": {
        "id": "8fc39620-2ba1-40e2-8bc1-9fba3e3c1497"
      },
      "outputs": [],
      "source": [
        "def train_discriminator(d_model, g_model, latent_dim, dataset, n_iter=10, index=0, n_batch=10):\n",
        "    for i in range(n_iter):\n",
        "        # Generate latent points\n",
        "        x_gan = generate_latent_points(latent_dim, n_batch)\n",
        "        # Generate images from latent points \n",
        "        generated_images = g_model.predict(x_gan).reshape((image_size, image_size, image_depth))\n",
        "        generated_images = generated_images.reshape(n_batch, image_size, image_size, image_depth)\n",
        "        # Concatenate our real image and generated images\n",
        "        X_disc = np.concatenate([dataset[index:(index+n_batch)], generated_images])\n",
        "        Y_disc = np.concatenate([np.ones(n_batch), np.zeros(n_batch)])\n",
        "\n",
        "        d_model.fit(X_disc, Y_disc, epochs=1, verbose=1)"
      ]
    },
    {
      "cell_type": "code",
      "execution_count": null,
      "id": "0c246086-9b41-4a1d-ae53-5dfaeb69b526",
      "metadata": {
        "id": "0c246086-9b41-4a1d-ae53-5dfaeb69b526"
      },
      "outputs": [],
      "source": [
        "def gan_model(g_model, d_model):\n",
        "    d_model.trainable = False\n",
        "    model = keras.Sequential()\n",
        "    model.add(g_model)\n",
        "    model.add(d_model)\n",
        "\n",
        "    opt = keras.optimizers.Adam(lr=0.0002, beta_1=0.5)\n",
        "    model.compile(loss='binary_crossentropy', optimizer=opt, metrics=['accuracy'])\n",
        "    \n",
        "    return model"
      ]
    },
    {
      "cell_type": "code",
      "execution_count": null,
      "id": "52459ba1-c91b-43a1-9b08-709c2ade9aea",
      "metadata": {
        "id": "52459ba1-c91b-43a1-9b08-709c2ade9aea"
      },
      "outputs": [],
      "source": [
        "def train_gan(gan_model, latent_dim, n_iter=10, n_batch=10):\n",
        "    for i in range(n_iter):\n",
        "        # Generate latent points\n",
        "        X = generate_latent_points(latent_dim, n_batch)\n",
        "        Y = np.ones((n_batch, 1))\n",
        "\n",
        "        gan_model.fit(X, Y, epochs=1, verbose=1)"
      ]
    },
    {
      "cell_type": "code",
      "execution_count": null,
      "id": "119cac48-0395-40c7-a94b-830b9967b816",
      "metadata": {
        "id": "119cac48-0395-40c7-a94b-830b9967b816"
      },
      "outputs": [],
      "source": [
        "# Initialize our models\n",
        "d_model = discriminator_model()\n",
        "\n",
        "g_model = generator_model(latent_dim)\n",
        "g_model.summary()\n",
        "\n",
        "#gan_model = gan_model(g_model, d_model)\n"
      ]
    },
    {
      "cell_type": "markdown",
      "id": "b63540f8-255c-4fec-9677-09a22266897e",
      "metadata": {
        "id": "b63540f8-255c-4fec-9677-09a22266897e"
      },
      "source": [
        "**Training system**"
      ]
    },
    {
      "cell_type": "code",
      "execution_count": null,
      "id": "3d063d0f-18d0-4c7c-a929-1046f739a593",
      "metadata": {
        "id": "3d063d0f-18d0-4c7c-a929-1046f739a593"
      },
      "outputs": [],
      "source": [
        "epochs = 50\n",
        "curr_epochs = 0\n",
        "\n",
        "index = 0\n",
        "batch_size = 10\n",
        "index_max = len(X) - batch_size\n",
        "\n",
        "while curr_epochs < epochs:\n",
        "\n",
        "    if index > index_max:\n",
        "        index = index_max\n",
        "    elif index == index_max:\n",
        "        index = 0\n",
        "    \n",
        "    print(\"------ Training discriminator ------\")\n",
        "    train_discriminator(d_model, g_model, latent_dim, X, n_iter=10, index=index, n_batch=batch_size)\n",
        "    \n",
        "    print(\"------ Training GAN ------\")\n",
        "    train_gan(gan_model, latent_dim, n_iter=20, n_batch=batch_size*2)\n",
        "    \n",
        "    index = index + batch_size\n",
        "    curr_epochs = curr_epochs + 1\n",
        "    \n",
        "    # Save the model every 15 epochs\n",
        "    if (curr_epochs + 1) % 15 == 0:\n",
        "        gan_model.save(gan_path)\n",
        "        d_model.save(disc_path)\n",
        "        g_model.save(gen_path)\n",
        "    \n",
        "    print(\"------ Adv. \" + str(curr_epochs) + \"/\" + str(epochs) + \" ------\")"
      ]
    },
    {
      "cell_type": "code",
      "execution_count": null,
      "id": "206ec0e2-c489-4f97-8734-9816d72c076a",
      "metadata": {
        "id": "206ec0e2-c489-4f97-8734-9816d72c076a"
      },
      "outputs": [],
      "source": [
        "# Save models\n",
        "gan_model.save(gan_path)\n",
        "d_model.save(disc_path)\n",
        "g_model.save(gen_path)"
      ]
    },
    {
      "cell_type": "markdown",
      "id": "a33419a6-5834-4b00-b1af-eb13b110e014",
      "metadata": {
        "id": "a33419a6-5834-4b00-b1af-eb13b110e014"
      },
      "source": [
        "**Test prediction**"
      ]
    },
    {
      "cell_type": "code",
      "execution_count": null,
      "id": "4c1e93d6-74a3-4284-968e-1eac6aa5cbf3",
      "metadata": {
        "id": "4c1e93d6-74a3-4284-968e-1eac6aa5cbf3"
      },
      "outputs": [],
      "source": [
        "#Load models\n",
        "gan_model = keras.models.load_model(gan_path)\n",
        "d_model = keras.models.load_model(disc_path)\n",
        "g_model = keras.models.load_model(gen_path)"
      ]
    },
    {
      "cell_type": "code",
      "execution_count": null,
      "id": "fb8c7d8b-7377-42b1-82a9-6bf9f2ba76f3",
      "metadata": {
        "id": "fb8c7d8b-7377-42b1-82a9-6bf9f2ba76f3"
      },
      "outputs": [],
      "source": [
        "x_gan = generate_latent_points(latent_dim, 1)\n",
        "gen_image = g_model.predict(x_gan).reshape((image_size, image_size, image_depth))\n",
        "plt.imshow(gen_image)"
      ]
    }
  ],
  "metadata": {
    "accelerator": "GPU",
    "colab": {
      "collapsed_sections": [],
      "name": "GAN.ipynb",
      "provenance": []
    },
    "kernelspec": {
      "display_name": "Python 3 (ipykernel)",
      "language": "python",
      "name": "python3"
    },
    "language_info": {
      "codemirror_mode": {
        "name": "ipython",
        "version": 3
      },
      "file_extension": ".py",
      "mimetype": "text/x-python",
      "name": "python",
      "nbconvert_exporter": "python",
      "pygments_lexer": "ipython3",
      "version": "3.8.8"
    }
  },
  "nbformat": 4,
  "nbformat_minor": 5
}